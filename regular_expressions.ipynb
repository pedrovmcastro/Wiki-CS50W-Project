{
 "cells": [
  {
   "cell_type": "code",
   "execution_count": null,
   "id": "9c23a588-b5c8-4939-8435-a0125167041b",
   "metadata": {},
   "outputs": [],
   "source": [
    "# REGULAR EXPRESSIONS"
   ]
  },
  {
   "cell_type": "code",
   "execution_count": 2,
   "id": "34d0b4df-d2e6-4ed6-b1e7-082c6e603caa",
   "metadata": {},
   "outputs": [
    {
     "name": "stdout",
     "output_type": "stream",
     "text": [
      "What's your email? pedro@\n"
     ]
    },
    {
     "name": "stdout",
     "output_type": "stream",
     "text": [
      "Valid\n"
     ]
    }
   ],
   "source": [
    "\"\"\"\n",
    "    .       any character except a newline\n",
    "    *       0 or more repetitions\n",
    "    +       1 or more repetitions\n",
    "    ?       0 or 1 repetition\n",
    "    {m}     m repetitions\n",
    "    {m,n}   m-n repetitions\n",
    "\"\"\"\n",
    "\n",
    "\n",
    "import re\n",
    "\n",
    "email = input(\"What's your email?\" )\n",
    "\n",
    "if re.search(\".*@.*\", email):\n",
    "    print(\"Valid\")\n",
    "else:\n",
    "    print(\"Invalid\")\n",
    "\n"
   ]
  },
  {
   "cell_type": "code",
   "execution_count": 3,
   "id": "890bcdc1-ccfd-42e1-8bb2-432dac5efec1",
   "metadata": {},
   "outputs": [
    {
     "name": "stdout",
     "output_type": "stream",
     "text": [
      "What's your email? pedro@\n"
     ]
    },
    {
     "name": "stdout",
     "output_type": "stream",
     "text": [
      "Invalid\n"
     ]
    }
   ],
   "source": [
    "email = input(\"What's your email?\" )\n",
    "\n",
    "if re.search(\".+@.+\", email):\n",
    "    print(\"Valid\")\n",
    "else:\n",
    "    print(\"Invalid\")"
   ]
  },
  {
   "cell_type": "code",
   "execution_count": 4,
   "id": "b0469e98-71b2-4643-9914-3fa1c7e65cbc",
   "metadata": {},
   "outputs": [
    {
     "name": "stdout",
     "output_type": "stream",
     "text": [
      "What's your email? pedro@\n"
     ]
    },
    {
     "name": "stdout",
     "output_type": "stream",
     "text": [
      "Invalid\n"
     ]
    }
   ],
   "source": [
    "email = input(\"What's your email?\" )\n",
    "\n",
    "if re.search(\"..*@..*\", email):\n",
    "    print(\"Valid\")\n",
    "else:\n",
    "    print(\"Invalid\")"
   ]
  },
  {
   "cell_type": "code",
   "execution_count": 16,
   "id": "ba314445-ef83-4f60-af4b-b483afe4e634",
   "metadata": {},
   "outputs": [
    {
     "name": "stdout",
     "output_type": "stream",
     "text": [
      "What's your email? pedro@emailedu\n"
     ]
    },
    {
     "name": "stdout",
     "output_type": "stream",
     "text": [
      "Invalid\n"
     ]
    }
   ],
   "source": [
    "\"\"\"\n",
    "^ - matches the start of the string\n",
    "$ - matches the end of the string\n",
    "\"\"\"\n",
    "email = input(\"What's your email?\" )\n",
    "\n",
    "if re.search(r\".+@.+\\.edu$\", email): # \\ is the scape character, double \\\\ to no misinterpretations \n",
    "    print(\"Valid\")                   # or r before string (raw string) -> could be: \".+@.+\\\\.edu$\"\n",
    "else:\n",
    "    print(\"Invalid\")"
   ]
  },
  {
   "cell_type": "code",
   "execution_count": 18,
   "id": "3b1135d0-2e31-4237-b3e2-52471e04ac2b",
   "metadata": {},
   "outputs": [
    {
     "name": "stdout",
     "output_type": "stream",
     "text": [
      "What's your email? pedro@@email.edu\n"
     ]
    },
    {
     "name": "stdout",
     "output_type": "stream",
     "text": [
      "Invalid\n"
     ]
    }
   ],
   "source": [
    "\"\"\"\n",
    "[]   set of characters\n",
    "[^]  complementing the set - \n",
    "\"\"\"\n",
    "\n",
    "\n",
    "email = input(\"What's your email?\" )\n",
    "\n",
    "if re.search(r\"^[^@]+@[^@]+\\.edu$\", email):\n",
    "    print(\"Valid\")\n",
    "else:\n",
    "    print(\"Invalid\")\n",
    "\n",
    "# Instead the \".\" that means any character , [^@] means any character excepts the @ "
   ]
  },
  {
   "cell_type": "code",
   "execution_count": 22,
   "id": "eb571c7c-f212-47fd-9fe4-bb63237fbcc5",
   "metadata": {},
   "outputs": [
    {
     "name": "stdout",
     "output_type": "stream",
     "text": [
      "What's your email? pedro@gmail.edu\n"
     ]
    },
    {
     "name": "stdout",
     "output_type": "stream",
     "text": [
      "Valid\n",
      "Valid\n"
     ]
    }
   ],
   "source": [
    "r\"\"\"\n",
    "\\w - word (letters, numbers and underscore)\n",
    "\\W - not a word character\n",
    "\\d - decimal digit [0-9]\n",
    "\\D - not a decimal digit\n",
    "\\s - whitespace characters\n",
    "\\S - not a whitespace character\n",
    "\"\"\"\n",
    "\n",
    "email = input(\"What's your email?\" )\n",
    "\n",
    "if re.search(r\"^[a-zA-Z0-9_]+@[a-zA-Z0-9_]+\\.edu$\", email):\n",
    "    print(\"Valid\")\n",
    "else:\n",
    "    print(\"Invalid\")\n",
    "\n",
    "# Agora so permite à direita ou à esquerada do @ os caracteres especificados entre colchetes\n",
    "# letras minusculas, maiusculas, números e underscore\n",
    "\n",
    "# No entanto, existe uma sintaxe que simplifica: \\w significa a mesma coisa\n",
    "\n",
    "if re.search(r\"\\w+@\\w+\\.edu$\", email):\n",
    "    print(\"Valid\")\n",
    "else:\n",
    "    print(\"Invalid\")\n"
   ]
  },
  {
   "cell_type": "code",
   "execution_count": 26,
   "id": "5567d7d3-c7b4-45a9-9a3d-220d78708cd2",
   "metadata": {},
   "outputs": [
    {
     "name": "stdout",
     "output_type": "stream",
     "text": [
      "What's your email? pedro@email.net\n"
     ]
    },
    {
     "name": "stdout",
     "output_type": "stream",
     "text": [
      "Valid\n"
     ]
    }
   ],
   "source": [
    "\"\"\"\n",
    "A|B    either A or B\n",
    "(...)    a group\n",
    "(?:...)  non-capturing version\n",
    "\"\"\"\n",
    "\n",
    "email = input(\"What's your email?\" )\n",
    "\n",
    "if re.search(r\"\\w+@\\w+\\.(com|edu|gov|net|org)$\", email):\n",
    "    print(\"Valid\")\n",
    "else:\n",
    "    print(\"Invalid\")\n"
   ]
  },
  {
   "cell_type": "code",
   "execution_count": 27,
   "id": "d80aacec-47a3-4141-a3e7-25dfd6f1dcd1",
   "metadata": {},
   "outputs": [
    {
     "name": "stdout",
     "output_type": "stream",
     "text": [
      "What's your email? PEDRO@EMAIL.EDU\n"
     ]
    },
    {
     "name": "stdout",
     "output_type": "stream",
     "text": [
      "Valid\n"
     ]
    }
   ],
   "source": [
    "\"\"\"\n",
    "re.search(pattern, string, flags=0)\n",
    "\n",
    "flags:\n",
    "re.IGNORECASE - tanto faz se é maiusculo ou minúsculo\n",
    "re.MULTILINE - permite varias linhas\n",
    "re.DOTALL - faz com que o \".\" represente todo caractere inclusive new line\n",
    "\"\"\"\n",
    "\n",
    "email = input(\"What's your email?\" )\n",
    "\n",
    "if re.search(r\"\\w+@\\w+\\.edu$\", email, re.IGNORECASE):\n",
    "    print(\"Valid\")\n",
    "else:\n",
    "    print(\"Invalid\")"
   ]
  },
  {
   "cell_type": "code",
   "execution_count": 32,
   "id": "fac7ca89-ee03-4f44-bbae-d1d89ec24e6a",
   "metadata": {},
   "outputs": [
    {
     "name": "stdout",
     "output_type": "stream",
     "text": [
      "What's your email? pedro.vitor@email.harvard.edu\n"
     ]
    },
    {
     "name": "stdout",
     "output_type": "stream",
     "text": [
      "Valid\n"
     ]
    }
   ],
   "source": [
    "email = input(\"What's your email?\" )\n",
    "\n",
    "if re.search(r\"(\\w|\\.)+@(\\w+\\.)*\\w+\\.edu$\", email, re.IGNORECASE):\n",
    "    print(\"Valid\")\n",
    "else:\n",
    "    print(\"Invalid\")\n",
    "\n",
    "# Agora podemos ter ter emails com subdomínios, e \".\" nos usernames"
   ]
  },
  {
   "cell_type": "code",
   "execution_count": null,
   "id": "356ee9a3-d62b-405f-8b7b-c93959b88c35",
   "metadata": {},
   "outputs": [],
   "source": [
    "# re.match(pattern, string, flags=0)\n",
    "# re.fullmatch(pattern, string, flags=0)"
   ]
  },
  {
   "cell_type": "code",
   "execution_count": 5,
   "id": "e5fa9be2-c0ee-4202-ac88-a9ece0caa10e",
   "metadata": {},
   "outputs": [
    {
     "name": "stdin",
     "output_type": "stream",
     "text": [
      "What's your name?  Papa, Léguas\n"
     ]
    },
    {
     "name": "stdout",
     "output_type": "stream",
     "text": [
      "hello, Léguas Papa\n",
      "hello, Léguas Papa\n"
     ]
    }
   ],
   "source": [
    "import re\n",
    "\n",
    "name = input(\"What's your name? \").strip()\n",
    "matches = re.search(r\"^(.+), *(.+)$\", name)    # * aqui permite que usemos quantos espaços quiser ou até nenhum\n",
    "if matches:\n",
    "    last, first = matches.groups()\n",
    "    name = f\"{first} {last}\"\n",
    "print(f\"hello, {name}\")\n",
    "\n",
    "# search can capture the structures within parentesis and return in a variable\n",
    "# and unpack with var.groups()\n",
    "\n",
    "if matches:\n",
    "    name = matches.group(2) + \" \" + matches.group(1)\n",
    "print(f\"hello, {name}\")"
   ]
  },
  {
   "cell_type": "code",
   "execution_count": 6,
   "id": "c9617a23-6aa0-41c1-aa37-c6dccf351fcd",
   "metadata": {},
   "outputs": [
    {
     "name": "stdout",
     "output_type": "stream",
     "text": [
      "hello, Pedro Marques, Castro\n"
     ]
    }
   ],
   "source": [
    "\"\"\"\n",
    "É possível retornar um valor ao mesmo tempo que verifica uma condição booleana com \n",
    "o \"walrus operator\" :=\n",
    "\n",
    "'se der match na busca da regex que é igual a tal e tal coisa\n",
    "\"\"\"\n",
    "#name = input(\"What's your name? \").strip()\n",
    "\n",
    "name = 'Marques, Castro, Pedro'\n",
    "\n",
    "if matches := re.search(r\"^(.+), *(.+)$\", name):\n",
    "    name = matches.group(2) + \" \" + matches.group(1)\n",
    "print(f\"hello, {name}\")"
   ]
  },
  {
   "cell_type": "code",
   "execution_count": 44,
   "id": "a9373f8a-f847-449e-8d07-ccabd58df7a4",
   "metadata": {},
   "outputs": [
    {
     "name": "stdout",
     "output_type": "stream",
     "text": [
      "URL:  www.twitter.com/pvmcastro\n"
     ]
    },
    {
     "name": "stdout",
     "output_type": "stream",
     "text": [
      "Username: www.twitter.com/pvmcastro\n",
      "Username: pvmcastro\n"
     ]
    }
   ],
   "source": [
    "\"\"\"\n",
    "Tentando capturar o username de uma url do twitter\n",
    "\"\"\"\n",
    "\n",
    "url = input(\"URL: \").strip()\n",
    "\n",
    "username = url.replace(\"https://twitter.com/\", \"\")\n",
    "print(f\"Username: {username}\")\n",
    "\n",
    "# Varios problemas podem ocorrer, entretanto... se usar http, se usar www, se usar twitter direto\n",
    "# re.sub(pattern, repl, string, count=0, flags=0)\n",
    "\n",
    "username = re.sub(r\"^(https?://)?(www\\.)?twitter\\.com/\", \"\", url)\n",
    "print(f\"Username: {username}\")\n",
    "\n",
    "# Entretanto se alguem digitar algo nada a ver, por exemplo www.facebook.com/username\n",
    "# vai imprimir ainda a url toda"
   ]
  },
  {
   "cell_type": "code",
   "execution_count": 47,
   "id": "664b1043-5a23-4f26-86f0-bf6de0b0fadd",
   "metadata": {},
   "outputs": [
    {
     "name": "stdout",
     "output_type": "stream",
     "text": [
      "URL:  www.twitter.com/pvmcastro/\n"
     ]
    },
    {
     "name": "stdout",
     "output_type": "stream",
     "text": [
      "Username: pvmcastro/\n",
      "Username: pvmcastro\n"
     ]
    }
   ],
   "source": [
    "\"\"\"\n",
    "Lidando com condições, capturas e não-capturas\n",
    "(...) group\n",
    "(?:...) not-capturing group\n",
    "\"\"\"\n",
    "\n",
    "url = input(\"URL: \").strip()\n",
    "\n",
    "if matches := re.search(r\"^(?:https?://)?(?:www\\.)?twitter\\.com/(.+)$\", url, re.IGNORECASE):\n",
    "    print(f\"Username:\", matches.group(1))\n",
    "\n",
    "# para ser ainda mais preciso ao invés de (.+) podemos verificar a documentaçao do twitter e ver o que eles aceitam como username\n",
    "# e não \".\" que literalmente aceita tudo\n",
    "\n",
    "if matches := re.search(r\"^(?:https?://)?(?:www\\.)?twitter\\.com/([a-z0-9_]+).$\", url, re.IGNORECASE):\n",
    "    print(f\"Username:\", matches.group(1))"
   ]
  },
  {
   "cell_type": "code",
   "execution_count": null,
   "id": "3cb9758c-5e10-4f5a-ad74-16a3cf3dabcd",
   "metadata": {},
   "outputs": [],
   "source": [
    "# re.split(pattern, string, maxsplit=0, flags=0)\n",
    "# re.findall()"
   ]
  }
 ],
 "metadata": {
  "kernelspec": {
   "display_name": "Python 3 (ipykernel)",
   "language": "python",
   "name": "python3"
  },
  "language_info": {
   "codemirror_mode": {
    "name": "ipython",
    "version": 3
   },
   "file_extension": ".py",
   "mimetype": "text/x-python",
   "name": "python",
   "nbconvert_exporter": "python",
   "pygments_lexer": "ipython3",
   "version": "3.12.6"
  }
 },
 "nbformat": 4,
 "nbformat_minor": 5
}
